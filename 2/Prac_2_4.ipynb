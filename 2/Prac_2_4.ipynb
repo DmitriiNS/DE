{
 "cells": [
  {
   "cell_type": "markdown",
   "id": "84264ab4",
   "metadata": {},
   "source": [
    "1. Вывести фамилию сотрудника с самой высокой зарплатой"
   ]
  },
  {
   "cell_type": "code",
   "execution_count": null,
   "id": "80a53aff",
   "metadata": {},
   "outputs": [],
   "source": [
    "SELECT fio \n",
    "FROM customers \n",
    "WHERE salary=(SELECT MAX(SALARY) FROM CUSTOMERS)"
   ]
  },
  {
   "cell_type": "markdown",
   "id": "e10abb3f",
   "metadata": {},
   "source": [
    "2. Вывести фамилии сотрудников в алфавитном порядке"
   ]
  },
  {
   "cell_type": "code",
   "execution_count": null,
   "id": "8d8f61e9",
   "metadata": {},
   "outputs": [],
   "source": [
    "SELECT split_part(fio, ' ', 1) FROM customers ORDER BY fio"
   ]
  },
  {
   "cell_type": "markdown",
   "id": "8205ad88",
   "metadata": {},
   "source": [
    "3. Рассчитайте средний стаж для каждого уровня сотрудников"
   ]
  },
  {
   "cell_type": "code",
   "execution_count": null,
   "id": "9271b74a",
   "metadata": {},
   "outputs": [],
   "source": [
    "SELECT grade, SUM(AGE(current_date,datestartwork))/COUNT(fio) \n",
    "FROM customers \n",
    "GROUP BY grade"
   ]
  },
  {
   "cell_type": "markdown",
   "id": "7c6a4150",
   "metadata": {},
   "source": [
    "4. Выведите фамилию сотрудника и название отдела, в котором он работает\n",
    "Так как есть явное несоответствие типов данных - преобразуем их."
   ]
  },
  {
   "cell_type": "code",
   "execution_count": null,
   "id": "4750fce9",
   "metadata": {},
   "outputs": [],
   "source": [
    "ALTER TABLE customers \n",
    "ALTER COLUMN iddepartment TYPE INTEGER \n",
    "USING iddepartment::integer"
   ]
  },
  {
   "cell_type": "code",
   "execution_count": null,
   "id": "1ed06947",
   "metadata": {},
   "outputs": [],
   "source": [
    "SELECT customers.fio,departments.departmentname \n",
    "FROM customers INNER JOIN departments \n",
    "ON customers.iddepartment = departments.id \n",
    "ORDER BY customers.fio"
   ]
  },
  {
   "cell_type": "markdown",
   "id": "0a9c2fd1",
   "metadata": {},
   "source": [
    "5. Выведите название отдела и фамилию сотрудника с самой высокой зарплатой в данном отделе и саму зарплату также"
   ]
  },
  {
   "cell_type": "code",
   "execution_count": null,
   "id": "b419a155",
   "metadata": {},
   "outputs": [],
   "source": [
    "SELECT departments.departmentname,customers.fio,customers.salary \n",
    "FROM customers INNER JOIN departments \n",
    "ON customers.iddepartment = departments.id \n",
    "WHERE customers.salary=(SELECT MAX(salary) FROM customers)"
   ]
  }
 ],
 "metadata": {
  "kernelspec": {
   "display_name": "Python 3 (ipykernel)",
   "language": "python",
   "name": "python3"
  },
  "language_info": {
   "codemirror_mode": {
    "name": "ipython",
    "version": 3
   },
   "file_extension": ".py",
   "mimetype": "text/x-python",
   "name": "python",
   "nbconvert_exporter": "python",
   "pygments_lexer": "ipython3",
   "version": "3.11.1"
  }
 },
 "nbformat": 4,
 "nbformat_minor": 5
}
