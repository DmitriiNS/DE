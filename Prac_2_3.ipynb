{
 "cells": [
  {
   "cell_type": "markdown",
   "id": "80bbc7cd",
   "metadata": {},
   "source": [
    "1. Создание таблицы customers\n",
    "Создать таблицу с основной информацией о сотрудниках: ФИО, дата рождения, дата начала работы, должность, уровень сотрудника (jun, middle, senior, lead), уровень зарплаты, идентификатор отдела, наличие/отсутствие прав(True/False). При этом в таблице обязательно должен быть уникальный номер для каждого сотрудника."
   ]
  },
  {
   "cell_type": "code",
   "execution_count": null,
   "id": "42d579bc",
   "metadata": {},
   "outputs": [],
   "source": [
    "CREATE TABLE customers\n",
    "(\n",
    "\tId SERIAL PRIMARY KEY,\n",
    "\tFIO CHARACTER VARYING(30),\n",
    "\tDateOfBirth DATE,\n",
    "\tDateStartWork DATE,\n",
    "\tJobTitle CHARACTER VARYING(30),\n",
    "\tGrade CHARACTER VARYING(30),\n",
    "\tSalary INTEGER,\n",
    "\tIdDepartment CHARACTER VARYING(30),\n",
    "\tDriverLicenseAvailability BOOLEAN  \n",
    ");"
   ]
  },
  {
   "cell_type": "markdown",
   "id": "6764ed60",
   "metadata": {},
   "source": [
    "2. Создание таблицы Departments с информацией по отделам \n",
    "Для будущих отчетов аналитики попросили вас создать еще одну таблицу с информацией по отделам – в таблице должен быть идентификатор для каждого отдела, название отдела (например. Бухгалтерский или IT отдел), ФИО руководителя и количество сотрудников."
   ]
  },
  {
   "cell_type": "code",
   "execution_count": null,
   "id": "2f25e8d3",
   "metadata": {},
   "outputs": [],
   "source": [
    "CREATE TABLE departments\n",
    "(\n",
    "\tId SERIAL PRIMARY KEY,\n",
    "\tDepartmentName CHARACTER VARYING(30),\n",
    "\tFioCeo CHARACTER VARYING(30),\n",
    "\tCustomersAmount INTEGER\n",
    ");"
   ]
  },
  {
   "cell_type": "markdown",
   "id": "d9e9944e",
   "metadata": {},
   "source": [
    "3. На кону конец года и необходимо выплачивать сотрудникам премию. Премия будет выплачиваться по совокупным оценкам, которые сотрудники получают в каждом квартале года. Создайте таблицу, в которой для каждого сотрудника будут его оценки за каждый квартал. Диапазон оценок от A – самая высокая, до E – самая низкая."
   ]
  },
  {
   "cell_type": "code",
   "execution_count": null,
   "id": "3612708d",
   "metadata": {},
   "outputs": [],
   "source": [
    "CREATE TABLE QuarterGrades\n",
    "(\n",
    "\tId SERIAL PRIMARY KEY,\n",
    "\tFIO CHARACTER VARYING(30),\n",
    "\tQuarterNumber INTEGER,\n",
    "\tGRADE CHARACTER(1)\n",
    ");"
   ]
  },
  {
   "cell_type": "markdown",
   "id": "112bf638",
   "metadata": {},
   "source": [
    "4. Наполнение таблицы данными \n",
    "Несколько уточнений по предыдущим заданиям – в первой таблице должны быть записи как минимум о 5 сотрудниках, которые работают как минимум в 2-х разных отделах. Содержимое соответствующих атрибутов остается на совесть вашей фантазии, но, желательно соблюдать осмысленность и правильно выбирать типы данных (для зарплаты – числовой тип, для ФИО – строковый и т.д.)"
   ]
  },
  {
   "cell_type": "code",
   "execution_count": null,
   "id": "381a949b",
   "metadata": {},
   "outputs": [],
   "source": [
    "INSERT INTO customers (FIO,DateOfBirth,DateStartWork,JobTitle,Grade,Salary,IdDepartment,DriverLicenseAvailability) \n",
    "VALUES \n",
    "('Petrov Ivan Ivanovich','1985-05-02','2020-02-01','Data Engeneer','Senior',1500,1,True),\n",
    "('Ivanov Petr Ivanovich','1980-07-01','2021-05-01','Programmer','Middle',1000,2,True),\n",
    "('Sidorov Fedor Nikolaevich','1990-02-10','2022-01-15','Data Engeneer','Junior',700,1,False),\n",
    "('Parker Sara Jessika ','1988-11-14','2020-08-01','QA Engeneer','Teamlead',2000,1,True),\n",
    "('Stalone Silvestr Andreevich','1975-01-20','2021-08-01','CEO','Senior',1500,2,True);\n",
    "\n",
    "INSERT INTO departments (departmentname,fioceo,customersamount)\n",
    "VALUES \n",
    "('It','Parker Sara Jessika ',3),\n",
    "('BigData','Stalone Silvestr Andreevich',2);\n",
    "\n",
    "INSERT INTO quartergrades (fio,quarternumber,grade)\n",
    "VALUES \n",
    "('Petrov Ivan Ivanovich',1,'A'),\n",
    "('Petrov Ivan Ivanovich',2,'B'),\n",
    "('Petrov Ivan Ivanovich',3,'C'),\n",
    "('Petrov Ivan Ivanovich',4,'D'),\n",
    "('Ivanov Petr Ivanovich',1,'A'),\n",
    "('Ivanov Petr Ivanovich',2,'D'),\n",
    "('Ivanov Petr Ivanovich',3,'E'),\n",
    "('Ivanov Petr Ivanovich',4,'A'),\n",
    "('Sidorov Fedor Nikolaevich',1,'D'),\n",
    "('Sidorov Fedor Nikolaevich',2,'A'),\n",
    "('Sidorov Fedor Nikolaevich',3,'E'),\n",
    "('Sidorov Fedor Nikolaevich',4,'A'),\n",
    "('Parker Sara Jessika ',1,'A'),\n",
    "('Parker Sara Jessika ',2,'B'),\n",
    "('Parker Sara Jessika ',3,'C'),\n",
    "('Parker Sara Jessika ',4,'D'),\n",
    "('Stalone Silvestr Andreevich',1,'A'),\n",
    "('Stalone Silvestr Andreevich',2,'C'),\n",
    "('Stalone Silvestr Andreevich',3,'A'),\n",
    "('Stalone Silvestr Andreevich',4,'B')\n"
   ]
  },
  {
   "cell_type": "markdown",
   "id": "0ff4434b",
   "metadata": {},
   "source": [
    "5. Добавление новых данных в таблицы.\n",
    "Ваша команда расширяется и руководство запланировало открыть новый отдел – отдел Интеллектуального анализа данных. На начальном этапе в команду наняли одного руководителя отдела и двух сотрудников. Добавьте необходимую информацию в соответствующие таблицы."
   ]
  },
  {
   "cell_type": "code",
   "execution_count": null,
   "id": "73783dac",
   "metadata": {},
   "outputs": [],
   "source": [
    "INSERT INTO customers (FIO,DateOfBirth,DateStartWork,JobTitle,Grade,Salary,IdDepartment,DriverLicenseAvailability)\n",
    "VALUES \n",
    "('Twain Mark Ivanovich','1980-04-10','2022-12-29','Data Engeneer','Senior',1500,3,True),\n",
    "('Galustyan Mikhail Gamletovich','1982-07-01','2022-12-29','Programmer','Middle',1000,3,True),\n",
    "('Svetlakov Sergey Andreevich','1981-01-20','2022-12-29','CEO','Senior',2000,3,False);\n",
    "\n",
    "INSERT INTO departments (departmentname,fioceo,customersamount)\n",
    "VALUES \n",
    "('data mining','Svetlakov Sergey Andreevich',3);\n"
   ]
  },
  {
   "cell_type": "markdown",
   "id": "64574ed2",
   "metadata": {},
   "source": [
    "6. Теперь пришла пора анализировать наши данные – напишите запросы для получения следующей информации:\n",
    "\n",
    "6.1 Уникальный номер сотрудника, его ФИО и стаж работы – для всех сотрудников компании"
   ]
  },
  {
   "cell_type": "code",
   "execution_count": null,
   "id": "3bf36a3f",
   "metadata": {},
   "outputs": [],
   "source": [
    "SELECT id,fio,AGE(current_date,datestartwork) AS work_experience FROM customers"
   ]
  },
  {
   "cell_type": "markdown",
   "id": "d67ddf98",
   "metadata": {},
   "source": [
    "6.2 Уникальный номер сотрудника, его ФИО и стаж работы – только первых 3-х сотрудников"
   ]
  },
  {
   "cell_type": "code",
   "execution_count": null,
   "id": "a2cd6af3",
   "metadata": {},
   "outputs": [],
   "source": [
    "SELECT id,fio,AGE(current_date,datestartwork) AS work_experience FROM customers LIMIT 3"
   ]
  },
  {
   "cell_type": "markdown",
   "id": "c806087e",
   "metadata": {},
   "source": [
    "6.3 Уникальный номер сотрудников - водителей"
   ]
  },
  {
   "cell_type": "code",
   "execution_count": null,
   "id": "23736664",
   "metadata": {},
   "outputs": [],
   "source": [
    "SELECT id FROM customers WHERE driverlicenseavailability = True"
   ]
  },
  {
   "cell_type": "markdown",
   "id": "77eeba6b",
   "metadata": {},
   "source": [
    "6.4 Выведите номера сотрудников, которые хотя бы за 1 квартал получили оценку D или E"
   ]
  },
  {
   "cell_type": "code",
   "execution_count": null,
   "id": "5d4c0098",
   "metadata": {},
   "outputs": [],
   "source": [
    "SELECT customers.id FROM customers INNER JOIN quartergrades ON customers.fio = quartergrades.fio AND (quartergrades.grade='D' OR quartergrades.grade='E') GROUP BY customers.id"
   ]
  },
  {
   "cell_type": "markdown",
   "id": "095df988",
   "metadata": {},
   "source": [
    "6.5 Выведите самую высокую зарплату в компании. В моем случае такая зарплата 2х работников, поэтому вывожу 2 строки"
   ]
  },
  {
   "cell_type": "code",
   "execution_count": null,
   "id": "ab5ec540",
   "metadata": {},
   "outputs": [],
   "source": [
    "SELECT fio,salary FROM customers ORDER BY salary DESC LIMIT 2"
   ]
  },
  {
   "cell_type": "markdown",
   "id": "cb6361a2",
   "metadata": {},
   "source": [
    "6.6 * Выведите название самого крупного отдела"
   ]
  },
  {
   "cell_type": "code",
   "execution_count": null,
   "id": "fe640776",
   "metadata": {},
   "outputs": [],
   "source": [
    "SELECT departmentname FROM departments ORDER BY customersamount DESC LIMIT 1"
   ]
  },
  {
   "cell_type": "markdown",
   "id": "179f2a3c",
   "metadata": {},
   "source": [
    "6.7 * Выведите номера сотрудников от самых опытных до вновь прибывших"
   ]
  },
  {
   "cell_type": "code",
   "execution_count": null,
   "id": "837e6718",
   "metadata": {},
   "outputs": [],
   "source": [
    "SELECT id FROM customers ORDER BY datestartwork"
   ]
  },
  {
   "cell_type": "markdown",
   "id": "122f8e6b",
   "metadata": {},
   "source": [
    "6.8 * Рассчитайте среднюю зарплату для каждого уровня сотрудников"
   ]
  },
  {
   "cell_type": "code",
   "execution_count": null,
   "id": "1909d6ea",
   "metadata": {},
   "outputs": [],
   "source": [
    "SELECT AVG(salary) AS Average_Salary_Junior FROM customers WHERE grade = 'Junior'"
   ]
  },
  {
   "cell_type": "code",
   "execution_count": null,
   "id": "03643f58",
   "metadata": {},
   "outputs": [],
   "source": [
    "SELECT AVG(salary) AS Average_Salary_Senior FROM customers WHERE grade = 'Senior'"
   ]
  },
  {
   "cell_type": "code",
   "execution_count": null,
   "id": "f9ad2188",
   "metadata": {},
   "outputs": [],
   "source": [
    "SELECT AVG(salary) AS Average_Salary_Teamlead FROM customers WHERE grade = 'Teamlead'"
   ]
  },
  {
   "cell_type": "code",
   "execution_count": null,
   "id": "9dd960cf",
   "metadata": {},
   "outputs": [],
   "source": [
    "SELECT AVG(salary) AS Average_Salary_Middle FROM customers WHERE grade = 'Middle'"
   ]
  }
 ],
 "metadata": {
  "kernelspec": {
   "display_name": "Python 3 (ipykernel)",
   "language": "python",
   "name": "python3"
  },
  "language_info": {
   "codemirror_mode": {
    "name": "ipython",
    "version": 3
   },
   "file_extension": ".py",
   "mimetype": "text/x-python",
   "name": "python",
   "nbconvert_exporter": "python",
   "pygments_lexer": "ipython3",
   "version": "3.11.1"
  }
 },
 "nbformat": 4,
 "nbformat_minor": 5
}
