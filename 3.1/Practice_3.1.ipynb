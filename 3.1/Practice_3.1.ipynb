{
  "metadata": {
    "kernelspec": {
      "name": "python",
      "display_name": "Python (Pyodide)",
      "language": "python"
    },
    "language_info": {
      "codemirror_mode": {
        "name": "python",
        "version": 3
      },
      "file_extension": ".py",
      "mimetype": "text/x-python",
      "name": "python",
      "nbconvert_exporter": "python",
      "pygments_lexer": "ipython3",
      "version": "3.8"
    }
  },
  "nbformat_minor": 5,
  "nbformat": 4,
  "cells": [
    {
      "cell_type": "markdown",
      "source": "1. Уставновка Cloudera\n\nУстановлена по ссылке на VirtualBox\nhttps://downloads.cloudera.com/demo_vm/virtualbox/cloudera-quickstart-vm-5.13.0-0-virtualbox.zip",
      "metadata": {},
      "id": "14e1258a-deaf-4108-b98f-c3248708d37d"
    },
    {
      "cell_type": "markdown",
      "source": "2. Объединение файлов в 1",
      "metadata": {},
      "id": "4ea33bd9-9bdd-430e-bfea-4477ae6912ce"
    },
    {
      "cell_type": "code",
      "source": "cat *.txt > vm.txt",
      "metadata": {},
      "execution_count": null,
      "outputs": [],
      "id": "39a4caac-d405-4020-9c9a-4f62c1cfb1d5"
    },
    {
      "cell_type": "markdown",
      "source": "3. Создание папки в HDFS",
      "metadata": {},
      "id": "14a7c6b2-7b3e-49be-836f-1dd408cd0f9d"
    },
    {
      "cell_type": "code",
      "source": "hadoop fs -mkdir /homework_3_1",
      "metadata": {},
      "execution_count": null,
      "outputs": [],
      "id": "a0b0ff0b-930a-4cd4-ab87-5216cd516e65"
    },
    {
      "cell_type": "markdown",
      "source": "4.Копирование файла в созданную папку на HDFS",
      "metadata": {},
      "id": "f64c699d-fdee-4f1c-8e37-34e5a1177803"
    },
    {
      "cell_type": "code",
      "source": "hadoop fs -put -f vm.txt /homework_3_1",
      "metadata": {},
      "execution_count": null,
      "outputs": [],
      "id": "752a4711-08c9-45f4-948c-413fdccd2858"
    },
    {
      "cell_type": "markdown",
      "source": "5.Выводим содержимое папки HDFS",
      "metadata": {},
      "id": "cbaaf526-eb69-4aaa-b616-116b085a5318"
    },
    {
      "cell_type": "code",
      "source": "hadoop fs -ls /homework_3_1",
      "metadata": {},
      "execution_count": null,
      "outputs": [],
      "id": "0f0e638c-3b3f-47e5-8c35-ca3444e870c5"
    },
    {
      "cell_type": "markdown",
      "source": "Found 1 items\n-rw-r--r--   1 cloudera supergroup    3048008 2022-12-27 05:17 /homework_3_1/vm.txt",
      "metadata": {},
      "id": "ca973504-88cb-4244-8310-2b9dc1dbc195"
    },
    {
      "cell_type": "markdown",
      "source": "6.Изменяем атрибуты файла: user - чтение, запись, выполнение, group, other - чтение и выполнение",
      "metadata": {},
      "id": "50977064-8ecd-4e97-bfca-decbac034b87"
    },
    {
      "cell_type": "code",
      "source": "hadoop fs -chmod u=rwx,go=rx /homework_3_1/vm.txt",
      "metadata": {},
      "execution_count": null,
      "outputs": [],
      "id": "ed583a6b-98e9-45e4-b179-4ff10380ed20"
    },
    {
      "cell_type": "markdown",
      "source": "7.Проверяем измененные атрибуты файла",
      "metadata": {},
      "id": "fc87b862-0d53-46b8-b72a-5d99c5c79ece"
    },
    {
      "cell_type": "code",
      "source": "hadoop fs -ls /homework_3_1",
      "metadata": {},
      "execution_count": null,
      "outputs": [],
      "id": "2ba2fa77-9c86-4680-994b-5662ebb6a3bf"
    },
    {
      "cell_type": "markdown",
      "source": "-rwxr-xr-x   1 cloudera supergroup    3048008 2022-12-27 05:17 /homework_3_1/vm.txt",
      "metadata": {},
      "id": "5a0abe9b-f948-4058-90f2-c87443861237"
    },
    {
      "cell_type": "markdown",
      "source": "8.Выводим в читабельном виде размер файла",
      "metadata": {},
      "id": "15cd0dbe-2320-40f4-8f8c-db6aaf9367d3"
    },
    {
      "cell_type": "code",
      "source": "hadoop fs -du -h /homework_3_1/vm.txt",
      "metadata": {},
      "execution_count": null,
      "outputs": [],
      "id": "79992130-ef8a-47a6-bdc8-feeb902af2e8"
    },
    {
      "cell_type": "markdown",
      "source": "2.9 M  2.9 M  /homework_3_1/vm.txt",
      "metadata": {},
      "id": "d99b31c2-55d8-4d92-8b8c-aa858ed56b09"
    },
    {
      "cell_type": "markdown",
      "source": "9.Изменяем фактор репликации для нашей папки на 2",
      "metadata": {},
      "id": "5390b642-8936-44cb-b00d-202a8d17244e"
    },
    {
      "cell_type": "code",
      "source": "hadoop fs -setrep -w 2 /homework_3_1",
      "metadata": {},
      "execution_count": null,
      "outputs": [],
      "id": "9e2db65b-4774-452a-8fbc-63356d33e282"
    },
    {
      "cell_type": "markdown",
      "source": "Replication 2 set: /homework_3_1/vm.txt\nWaiting for /homework_3_1/vm.txt ...............",
      "metadata": {},
      "id": "ca26fb24-8840-4978-b527-a084353e423f"
    },
    {
      "cell_type": "markdown",
      "source": "10.Проверяем как изменился размер файла после установления фактора 2 репликации",
      "metadata": {},
      "id": "f7eeefb8-3214-43b8-b8c6-34c363a11f6e"
    },
    {
      "cell_type": "code",
      "source": "hadoop fs -du -h /homework_3_1/vm.txt",
      "metadata": {},
      "execution_count": null,
      "outputs": [],
      "id": "1a5bbf16-6b4a-49ec-ace3-2b383b068507"
    },
    {
      "cell_type": "markdown",
      "source": "2.9 M  5.8 M  /homework_3_1/vm.txt",
      "metadata": {},
      "id": "badc30aa-9078-4a03-907e-5f396870949b"
    },
    {
      "cell_type": "markdown",
      "source": "11.Подсчитаем количество строк в файле",
      "metadata": {},
      "id": "a605487c-799f-4457-b491-8c0a1aac86a9"
    },
    {
      "cell_type": "code",
      "source": "hadoop fs -cat /path/to/hdfs/filename | wc -l",
      "metadata": {},
      "execution_count": null,
      "outputs": [],
      "id": "0527d9d6-609e-4355-bfb7-7da7b859525a"
    },
    {
      "cell_type": "markdown",
      "source": "10272",
      "metadata": {},
      "id": "90fd8211-b559-4395-ba3d-7d5e0a16bf76"
    }
  ]
}